{
 "cells": [
  {
   "cell_type": "code",
   "execution_count": 4,
   "metadata": {},
   "outputs": [
    {
     "name": "stderr",
     "output_type": "stream",
     "text": [
      "Downloading...\n",
      "From (original): https://drive.google.com/uc?id=0B7EVK8r0v71pZjFTYXZWM3FlRnM\n",
      "From (redirected): https://drive.usercontent.google.com/download?id=0B7EVK8r0v71pZjFTYXZWM3FlRnM&confirm=t&uuid=7a71602f-fc97-43a8-a08e-88131106fcd9\n",
      "To: /Users/cyanosite/Development/Facial-Attribute-Recognition/data/celeba/img_align_celeba.zip\n",
      "100%|██████████| 1.44G/1.44G [00:16<00:00, 86.4MB/s]\n",
      "Downloading...\n",
      "From: https://drive.google.com/uc?id=0B7EVK8r0v71pblRyaVFSWGxPY0U\n",
      "To: /Users/cyanosite/Development/Facial-Attribute-Recognition/data/celeba/list_attr_celeba.txt\n",
      "100%|██████████| 26.7M/26.7M [00:00<00:00, 59.4MB/s]\n",
      "Downloading...\n",
      "From: https://drive.google.com/uc?id=1_ee_0u7vcNLOfNLegJRHmolfH5ICW-XS\n",
      "To: /Users/cyanosite/Development/Facial-Attribute-Recognition/data/celeba/identity_CelebA.txt\n",
      "100%|██████████| 3.42M/3.42M [00:00<00:00, 19.3MB/s]\n",
      "Downloading...\n",
      "From: https://drive.google.com/uc?id=0B7EVK8r0v71pbThiMVRxWXZ4dU0\n",
      "To: /Users/cyanosite/Development/Facial-Attribute-Recognition/data/celeba/list_bbox_celeba.txt\n",
      "100%|██████████| 6.08M/6.08M [00:00<00:00, 29.2MB/s]\n",
      "Downloading...\n",
      "From: https://drive.google.com/uc?id=0B7EVK8r0v71pd0FJY3Blby1HUTQ\n",
      "To: /Users/cyanosite/Development/Facial-Attribute-Recognition/data/celeba/list_landmarks_align_celeba.txt\n",
      "100%|██████████| 12.2M/12.2M [00:00<00:00, 44.5MB/s]\n",
      "Downloading...\n",
      "From: https://drive.google.com/uc?id=0B7EVK8r0v71pY0NSMzRuSXJEVkk\n",
      "To: /Users/cyanosite/Development/Facial-Attribute-Recognition/data/celeba/list_eval_partition.txt\n",
      "100%|██████████| 2.84M/2.84M [00:00<00:00, 16.7MB/s]\n"
     ]
    },
    {
     "name": "stdout",
     "output_type": "stream",
     "text": [
      "Files already downloaded and verified\n",
      "Files already downloaded and verified\n"
     ]
    }
   ],
   "source": [
    "from torchvision.datasets import CelebA\n",
    "\n",
    "train = CelebA(\"data\", \"train\", download=True)\n",
    "valid = CelebA(\"data\", \"valid\", download=True)\n",
    "test = CelebA(\"data\", \"test\", download=True)"
   ]
  },
  {
   "cell_type": "code",
   "execution_count": 5,
   "metadata": {},
   "outputs": [
    {
     "name": "stdout",
     "output_type": "stream",
     "text": [
      "162770 19867 19962\n"
     ]
    }
   ],
   "source": [
    "print(len(train), len(valid), len(test))"
   ]
  },
  {
   "cell_type": "code",
   "execution_count": null,
   "metadata": {},
   "outputs": [],
   "source": []
  }
 ],
 "metadata": {
  "kernelspec": {
   "display_name": "Python 3",
   "language": "python",
   "name": "python3"
  },
  "language_info": {
   "codemirror_mode": {
    "name": "ipython",
    "version": 3
   },
   "file_extension": ".py",
   "mimetype": "text/x-python",
   "name": "python",
   "nbconvert_exporter": "python",
   "pygments_lexer": "ipython3",
   "version": "3.11.8"
  }
 },
 "nbformat": 4,
 "nbformat_minor": 2
}
